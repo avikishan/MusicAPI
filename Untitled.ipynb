{
 "cells": [
  {
   "cell_type": "code",
   "execution_count": 3,
   "metadata": {},
   "outputs": [
    {
     "name": "stdout",
     "output_type": "stream",
     "text": [
      "Recommended Songs:\n",
      "1) \"Heartbreaker\" by Metronomy\n",
      "2) \"Wraith Pinned to the Mist and Other Games\" by of Montreal\n",
      "3) \"South of the River\" by Tom Misch\n",
      "4) \"Summer Days\" by Rhye\n",
      "5) \"Nuggets (feat. Bonzai)\" by Mura Masa\n",
      "6) \"Late Night - Solomun Remix\" by Foals\n",
      "7) \"What She Came For\" by Franz Ferdinand\n",
      "8) \"Daft Punk Is Playing at My House\" by LCD Soundsystem\n",
      "9) \"Ghost Ship\" by Blur\n",
      "10) \"Don't Touch My Hair (feat. Sampha)\" by Solange\n"
     ]
    }
   ],
   "source": [
    "import requests\n",
    "\n",
    "# SETTINGS \n",
    "endpoint_url = \"https://api.spotify.com/v1/recommendations?\"\n",
    "token = \"BQAwnvt_qfbaUBWF7LsNb7MkzT0TvoHSTBTfxaYrpqOvu5hkEr4jIKe6C5E7CnuOjXoHXDyiq0T2_BepkHjp7sFqlKNlo9Pz5BPFNHBwdLnd-3FJ9LMptTV-AxiSgnYY8N4Tq1PobA5oFOfI0hB1jnjtvV_06zWpW2l6YoW6NYfvv8l_6dZyYzuXflYRVoQ\"\n",
    "user_id = \"FILL_IN_YOUR_USER_ID\"\n",
    "\n",
    "# OUR FILTERS\n",
    "limit=10\n",
    "market=\"US\"\n",
    "seed_genres=\"indie\"\n",
    "target_danceability=0.9\n",
    "uris = [] \n",
    "seed_artists = '0XNa1vTidXlvJ2gHSsRi4A'\n",
    "seed_tracks='55SfSsxneljXOk5S3NVZIW'\n",
    "\n",
    "# PERFORM THE QUERY\n",
    "query = f'{endpoint_url}limit={limit}&market={market}&seed_genres={seed_genres}&target_danceability={target_danceability}'\n",
    "query += f'&seed_artists={seed_artists}'\n",
    "query += f'&seed_tracks={seed_tracks}'\n",
    "\n",
    "response = requests.get(query, \n",
    "               headers={\"Content-Type\":\"application/json\", \n",
    "                        \"Authorization\":f\"Bearer {token}\"})\n",
    "json_response = response.json()\n",
    "\n",
    "print('Recommended Songs:')\n",
    "for i,j in enumerate(json_response['tracks']):\n",
    "            uris.append(j['uri'])\n",
    "            print(f\"{i+1}) \\\"{j['name']}\\\" by {j['artists'][0]['name']}\")"
   ]
  },
  {
   "cell_type": "code",
   "execution_count": null,
   "metadata": {},
   "outputs": [],
   "source": []
  }
 ],
 "metadata": {
  "kernelspec": {
   "display_name": "Python 3",
   "language": "python",
   "name": "python3"
  },
  "language_info": {
   "codemirror_mode": {
    "name": "ipython",
    "version": 3
   },
   "file_extension": ".py",
   "mimetype": "text/x-python",
   "name": "python",
   "nbconvert_exporter": "python",
   "pygments_lexer": "ipython3",
   "version": "3.9.1"
  }
 },
 "nbformat": 4,
 "nbformat_minor": 4
}
